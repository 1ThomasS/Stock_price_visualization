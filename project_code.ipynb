{
 "cells": [
  {
   "cell_type": "markdown",
   "id": "e5f83eb2",
   "metadata": {},
   "source": [
    "# **Data Visualization and Narratives**\n",
    "## Apple Stock Price Visualization\n",
    "\n",
    "**Apple Inc. is an American multinational technology company headquartered in Cupertino, California, in Silicon Valley. It designs, develops, and sells consumer electronics, computer software, and online services.**"
   ]
  },
  {
   "cell_type": "markdown",
   "id": "89602439",
   "metadata": {},
   "source": [
    "### **Import necessary libraries and frameworks**"
   ]
  },
  {
   "cell_type": "code",
   "execution_count": 2,
   "id": "390c5823",
   "metadata": {},
   "outputs": [],
   "source": [
    "import numpy as np\n",
    "import pandas as pd\n",
    "\n",
    "import matplotlib.pyplot as plt\n",
    "import os"
   ]
  },
  {
   "cell_type": "code",
   "execution_count": 3,
   "id": "52cdd9ac",
   "metadata": {},
   "outputs": [],
   "source": [
    "# def process_batch(batch_data):\n",
    "#     processed_data = batch_data.apply(lambda x: x * 2) \n",
    "#     return processed_data"
   ]
  },
  {
   "cell_type": "code",
   "execution_count": 4,
   "id": "bf1c1fbd",
   "metadata": {},
   "outputs": [],
   "source": [
    "# chunk_size = 100000\n",
    "# csv_file = 'aapl_2014_2023.csv'\n",
    "# output_file = 'processed_data.csv'"
   ]
  },
  {
   "cell_type": "code",
   "execution_count": 5,
   "id": "fcedd863",
   "metadata": {},
   "outputs": [],
   "source": [
    "# for chunk in pd.read_csv(csv_file, chunksize=chunk_size):\n",
    "#     processed_chunk = process_batch(chunk)\n",
    "#     processed_chunk.to_csv(output_file, mode='a', header=False, index=False)"
   ]
  },
  {
   "cell_type": "code",
   "execution_count": 6,
   "id": "e2f27051",
   "metadata": {
    "scrolled": true
   },
   "outputs": [
    {
     "data": {
      "text/html": [
       "<div>\n",
       "<style scoped>\n",
       "    .dataframe tbody tr th:only-of-type {\n",
       "        vertical-align: middle;\n",
       "    }\n",
       "\n",
       "    .dataframe tbody tr th {\n",
       "        vertical-align: top;\n",
       "    }\n",
       "\n",
       "    .dataframe thead th {\n",
       "        text-align: right;\n",
       "    }\n",
       "</style>\n",
       "<table border=\"1\" class=\"dataframe\">\n",
       "  <thead>\n",
       "    <tr style=\"text-align: right;\">\n",
       "      <th></th>\n",
       "      <th>date</th>\n",
       "      <th>open</th>\n",
       "      <th>high</th>\n",
       "      <th>low</th>\n",
       "      <th>close</th>\n",
       "      <th>volume</th>\n",
       "      <th>rsi_7</th>\n",
       "      <th>rsi_14</th>\n",
       "      <th>cci_7</th>\n",
       "      <th>cci_14</th>\n",
       "      <th>sma_50</th>\n",
       "      <th>ema_50</th>\n",
       "      <th>sma_100</th>\n",
       "      <th>ema_100</th>\n",
       "      <th>macd</th>\n",
       "      <th>bollinger</th>\n",
       "      <th>TrueRange</th>\n",
       "      <th>atr_7</th>\n",
       "      <th>atr_14</th>\n",
       "      <th>target</th>\n",
       "    </tr>\n",
       "  </thead>\n",
       "  <tbody>\n",
       "    <tr>\n",
       "      <th>0</th>\n",
       "      <td>2014-01-02</td>\n",
       "      <td>19.845715</td>\n",
       "      <td>19.893929</td>\n",
       "      <td>19.715000</td>\n",
       "      <td>19.754642</td>\n",
       "      <td>234684800</td>\n",
       "      <td>44.149614</td>\n",
       "      <td>50.996175</td>\n",
       "      <td>-105.071637</td>\n",
       "      <td>-42.411877</td>\n",
       "      <td>19.282236</td>\n",
       "      <td>19.265060</td>\n",
       "      <td>18.372604</td>\n",
       "      <td>18.484713</td>\n",
       "      <td>0.194637</td>\n",
       "      <td>19.979268</td>\n",
       "      <td>0.321428</td>\n",
       "      <td>0.305722</td>\n",
       "      <td>0.316301</td>\n",
       "      <td>bearish</td>\n",
       "    </tr>\n",
       "    <tr>\n",
       "      <th>1</th>\n",
       "      <td>2014-01-03</td>\n",
       "      <td>19.745001</td>\n",
       "      <td>19.775000</td>\n",
       "      <td>19.301071</td>\n",
       "      <td>19.320715</td>\n",
       "      <td>392467600</td>\n",
       "      <td>33.094332</td>\n",
       "      <td>43.883529</td>\n",
       "      <td>-152.150999</td>\n",
       "      <td>-124.511983</td>\n",
       "      <td>19.297314</td>\n",
       "      <td>19.267243</td>\n",
       "      <td>18.398896</td>\n",
       "      <td>18.501371</td>\n",
       "      <td>0.132887</td>\n",
       "      <td>19.936375</td>\n",
       "      <td>0.473929</td>\n",
       "      <td>0.329752</td>\n",
       "      <td>0.327561</td>\n",
       "      <td>bullish</td>\n",
       "    </tr>\n",
       "    <tr>\n",
       "      <th>2</th>\n",
       "      <td>2014-01-06</td>\n",
       "      <td>19.194643</td>\n",
       "      <td>19.528570</td>\n",
       "      <td>19.057142</td>\n",
       "      <td>19.426071</td>\n",
       "      <td>412610800</td>\n",
       "      <td>37.525661</td>\n",
       "      <td>45.858019</td>\n",
       "      <td>-132.306490</td>\n",
       "      <td>-130.122350</td>\n",
       "      <td>19.310864</td>\n",
       "      <td>19.273472</td>\n",
       "      <td>18.418311</td>\n",
       "      <td>18.519794</td>\n",
       "      <td>0.091398</td>\n",
       "      <td>19.893571</td>\n",
       "      <td>0.471428</td>\n",
       "      <td>0.349991</td>\n",
       "      <td>0.337837</td>\n",
       "      <td>bearish</td>\n",
       "    </tr>\n",
       "    <tr>\n",
       "      <th>3</th>\n",
       "      <td>2014-01-07</td>\n",
       "      <td>19.440001</td>\n",
       "      <td>19.498571</td>\n",
       "      <td>19.211430</td>\n",
       "      <td>19.287144</td>\n",
       "      <td>317209200</td>\n",
       "      <td>34.055624</td>\n",
       "      <td>43.675708</td>\n",
       "      <td>-89.587009</td>\n",
       "      <td>-108.089019</td>\n",
       "      <td>19.316671</td>\n",
       "      <td>19.274008</td>\n",
       "      <td>18.433146</td>\n",
       "      <td>18.535080</td>\n",
       "      <td>0.046768</td>\n",
       "      <td>19.857893</td>\n",
       "      <td>0.287141</td>\n",
       "      <td>0.341013</td>\n",
       "      <td>0.334216</td>\n",
       "      <td>bullish</td>\n",
       "    </tr>\n",
       "    <tr>\n",
       "      <th>4</th>\n",
       "      <td>2014-01-08</td>\n",
       "      <td>19.243214</td>\n",
       "      <td>19.484285</td>\n",
       "      <td>19.238930</td>\n",
       "      <td>19.409286</td>\n",
       "      <td>258529600</td>\n",
       "      <td>39.768497</td>\n",
       "      <td>46.104107</td>\n",
       "      <td>-58.525539</td>\n",
       "      <td>-82.150032</td>\n",
       "      <td>19.329171</td>\n",
       "      <td>19.279313</td>\n",
       "      <td>18.449414</td>\n",
       "      <td>18.552493</td>\n",
       "      <td>0.021012</td>\n",
       "      <td>19.816875</td>\n",
       "      <td>0.245355</td>\n",
       "      <td>0.327347</td>\n",
       "      <td>0.327868</td>\n",
       "      <td>bearish</td>\n",
       "    </tr>\n",
       "  </tbody>\n",
       "</table>\n",
       "</div>"
      ],
      "text/plain": [
       "         date       open       high        low      close     volume  \\\n",
       "0  2014-01-02  19.845715  19.893929  19.715000  19.754642  234684800   \n",
       "1  2014-01-03  19.745001  19.775000  19.301071  19.320715  392467600   \n",
       "2  2014-01-06  19.194643  19.528570  19.057142  19.426071  412610800   \n",
       "3  2014-01-07  19.440001  19.498571  19.211430  19.287144  317209200   \n",
       "4  2014-01-08  19.243214  19.484285  19.238930  19.409286  258529600   \n",
       "\n",
       "       rsi_7     rsi_14       cci_7      cci_14     sma_50     ema_50  \\\n",
       "0  44.149614  50.996175 -105.071637  -42.411877  19.282236  19.265060   \n",
       "1  33.094332  43.883529 -152.150999 -124.511983  19.297314  19.267243   \n",
       "2  37.525661  45.858019 -132.306490 -130.122350  19.310864  19.273472   \n",
       "3  34.055624  43.675708  -89.587009 -108.089019  19.316671  19.274008   \n",
       "4  39.768497  46.104107  -58.525539  -82.150032  19.329171  19.279313   \n",
       "\n",
       "     sma_100    ema_100      macd  bollinger  TrueRange     atr_7    atr_14  \\\n",
       "0  18.372604  18.484713  0.194637  19.979268   0.321428  0.305722  0.316301   \n",
       "1  18.398896  18.501371  0.132887  19.936375   0.473929  0.329752  0.327561   \n",
       "2  18.418311  18.519794  0.091398  19.893571   0.471428  0.349991  0.337837   \n",
       "3  18.433146  18.535080  0.046768  19.857893   0.287141  0.341013  0.334216   \n",
       "4  18.449414  18.552493  0.021012  19.816875   0.245355  0.327347  0.327868   \n",
       "\n",
       "    target  \n",
       "0  bearish  \n",
       "1  bullish  \n",
       "2  bearish  \n",
       "3  bullish  \n",
       "4  bearish  "
      ]
     },
     "execution_count": 6,
     "metadata": {},
     "output_type": "execute_result"
    }
   ],
   "source": [
    "df = pd.read_csv('aapl_2014_2023.csv')\n",
    "df.head()"
   ]
  },
  {
   "cell_type": "code",
   "execution_count": 7,
   "id": "8efc690e",
   "metadata": {},
   "outputs": [
    {
     "data": {
      "text/plain": [
       "(2516, 20)"
      ]
     },
     "execution_count": 7,
     "metadata": {},
     "output_type": "execute_result"
    }
   ],
   "source": [
    "df.shape"
   ]
  },
  {
   "cell_type": "code",
   "execution_count": 8,
   "id": "272cb5f4",
   "metadata": {
    "scrolled": true
   },
   "outputs": [
    {
     "name": "stdout",
     "output_type": "stream",
     "text": [
      "<class 'pandas.core.frame.DataFrame'>\n",
      "RangeIndex: 2516 entries, 0 to 2515\n",
      "Data columns (total 20 columns):\n",
      " #   Column     Non-Null Count  Dtype  \n",
      "---  ------     --------------  -----  \n",
      " 0   date       2516 non-null   object \n",
      " 1   open       2516 non-null   float64\n",
      " 2   high       2516 non-null   float64\n",
      " 3   low        2516 non-null   float64\n",
      " 4   close      2516 non-null   float64\n",
      " 5   volume     2516 non-null   int64  \n",
      " 6   rsi_7      2516 non-null   float64\n",
      " 7   rsi_14     2516 non-null   float64\n",
      " 8   cci_7      2516 non-null   float64\n",
      " 9   cci_14     2516 non-null   float64\n",
      " 10  sma_50     2516 non-null   float64\n",
      " 11  ema_50     2516 non-null   float64\n",
      " 12  sma_100    2516 non-null   float64\n",
      " 13  ema_100    2516 non-null   float64\n",
      " 14  macd       2516 non-null   float64\n",
      " 15  bollinger  2516 non-null   float64\n",
      " 16  TrueRange  2516 non-null   float64\n",
      " 17  atr_7      2516 non-null   float64\n",
      " 18  atr_14     2516 non-null   float64\n",
      " 19  target     2516 non-null   object \n",
      "dtypes: float64(17), int64(1), object(2)\n",
      "memory usage: 393.2+ KB\n"
     ]
    }
   ],
   "source": [
    "df.info()"
   ]
  },
  {
   "cell_type": "code",
   "execution_count": 29,
   "id": "276203ba",
   "metadata": {},
   "outputs": [
    {
     "data": {
      "text/plain": [
       "Index(['open', 'high', 'low', 'close', 'volume', 'rsi_7', 'rsi_14', 'cci_7',\n",
       "       'cci_14', 'sma_50', 'ema_50', 'sma_100', 'ema_100', 'macd', 'bollinger',\n",
       "       'TrueRange', 'atr_7', 'atr_14', 'target', 'year'],\n",
       "      dtype='object')"
      ]
     },
     "execution_count": 29,
     "metadata": {},
     "output_type": "execute_result"
    }
   ],
   "source": [
    "df.columns"
   ]
  },
  {
   "cell_type": "code",
   "execution_count": 9,
   "id": "12c09a70",
   "metadata": {},
   "outputs": [],
   "source": [
    "df['date'] = pd.to_datetime(df['date'])\n",
    "df['year'] = df['date'].dt.year\n",
    "df = df.set_index('date')"
   ]
  },
  {
   "cell_type": "code",
   "execution_count": 10,
   "id": "edc0860a",
   "metadata": {
    "scrolled": true
   },
   "outputs": [
    {
     "name": "stdout",
     "output_type": "stream",
     "text": [
      "<class 'pandas.core.frame.DataFrame'>\n",
      "DatetimeIndex: 2516 entries, 2014-01-02 to 2023-12-29\n",
      "Data columns (total 20 columns):\n",
      " #   Column     Non-Null Count  Dtype  \n",
      "---  ------     --------------  -----  \n",
      " 0   open       2516 non-null   float64\n",
      " 1   high       2516 non-null   float64\n",
      " 2   low        2516 non-null   float64\n",
      " 3   close      2516 non-null   float64\n",
      " 4   volume     2516 non-null   int64  \n",
      " 5   rsi_7      2516 non-null   float64\n",
      " 6   rsi_14     2516 non-null   float64\n",
      " 7   cci_7      2516 non-null   float64\n",
      " 8   cci_14     2516 non-null   float64\n",
      " 9   sma_50     2516 non-null   float64\n",
      " 10  ema_50     2516 non-null   float64\n",
      " 11  sma_100    2516 non-null   float64\n",
      " 12  ema_100    2516 non-null   float64\n",
      " 13  macd       2516 non-null   float64\n",
      " 14  bollinger  2516 non-null   float64\n",
      " 15  TrueRange  2516 non-null   float64\n",
      " 16  atr_7      2516 non-null   float64\n",
      " 17  atr_14     2516 non-null   float64\n",
      " 18  target     2516 non-null   object \n",
      " 19  year       2516 non-null   int32  \n",
      "dtypes: float64(17), int32(1), int64(1), object(1)\n",
      "memory usage: 403.0+ KB\n"
     ]
    }
   ],
   "source": [
    "df.info()"
   ]
  },
  {
   "cell_type": "code",
   "execution_count": 13,
   "id": "21657c4b",
   "metadata": {
    "scrolled": false
   },
   "outputs": [
    {
     "data": {
      "text/html": [
       "<div>\n",
       "<style scoped>\n",
       "    .dataframe tbody tr th:only-of-type {\n",
       "        vertical-align: middle;\n",
       "    }\n",
       "\n",
       "    .dataframe tbody tr th {\n",
       "        vertical-align: top;\n",
       "    }\n",
       "\n",
       "    .dataframe thead th {\n",
       "        text-align: right;\n",
       "    }\n",
       "</style>\n",
       "<table border=\"1\" class=\"dataframe\">\n",
       "  <thead>\n",
       "    <tr style=\"text-align: right;\">\n",
       "      <th></th>\n",
       "      <th>open</th>\n",
       "      <th>high</th>\n",
       "      <th>low</th>\n",
       "      <th>close</th>\n",
       "      <th>volume</th>\n",
       "      <th>rsi_7</th>\n",
       "      <th>rsi_14</th>\n",
       "      <th>cci_7</th>\n",
       "      <th>cci_14</th>\n",
       "      <th>sma_50</th>\n",
       "      <th>ema_50</th>\n",
       "      <th>sma_100</th>\n",
       "      <th>ema_100</th>\n",
       "      <th>macd</th>\n",
       "      <th>bollinger</th>\n",
       "      <th>TrueRange</th>\n",
       "      <th>atr_7</th>\n",
       "      <th>atr_14</th>\n",
       "      <th>target</th>\n",
       "      <th>year</th>\n",
       "    </tr>\n",
       "    <tr>\n",
       "      <th>date</th>\n",
       "      <th></th>\n",
       "      <th></th>\n",
       "      <th></th>\n",
       "      <th></th>\n",
       "      <th></th>\n",
       "      <th></th>\n",
       "      <th></th>\n",
       "      <th></th>\n",
       "      <th></th>\n",
       "      <th></th>\n",
       "      <th></th>\n",
       "      <th></th>\n",
       "      <th></th>\n",
       "      <th></th>\n",
       "      <th></th>\n",
       "      <th></th>\n",
       "      <th></th>\n",
       "      <th></th>\n",
       "      <th></th>\n",
       "      <th></th>\n",
       "    </tr>\n",
       "  </thead>\n",
       "  <tbody>\n",
       "    <tr>\n",
       "      <th>2023-12-22</th>\n",
       "      <td>195.179993</td>\n",
       "      <td>195.410004</td>\n",
       "      <td>192.970001</td>\n",
       "      <td>193.600006</td>\n",
       "      <td>37122800</td>\n",
       "      <td>43.616382</td>\n",
       "      <td>54.609714</td>\n",
       "      <td>-125.833264</td>\n",
       "      <td>-50.518147</td>\n",
       "      <td>185.398801</td>\n",
       "      <td>188.226229</td>\n",
       "      <td>181.768301</td>\n",
       "      <td>183.982764</td>\n",
       "      <td>2.636317</td>\n",
       "      <td>193.668500</td>\n",
       "      <td>2.440003</td>\n",
       "      <td>2.744973</td>\n",
       "      <td>2.790613</td>\n",
       "      <td>neutral</td>\n",
       "      <td>2023</td>\n",
       "    </tr>\n",
       "    <tr>\n",
       "      <th>2023-12-26</th>\n",
       "      <td>193.610001</td>\n",
       "      <td>193.889999</td>\n",
       "      <td>192.830002</td>\n",
       "      <td>193.050003</td>\n",
       "      <td>28919300</td>\n",
       "      <td>40.755941</td>\n",
       "      <td>53.026883</td>\n",
       "      <td>-128.310846</td>\n",
       "      <td>-89.108636</td>\n",
       "      <td>185.682801</td>\n",
       "      <td>188.415396</td>\n",
       "      <td>181.787101</td>\n",
       "      <td>184.162313</td>\n",
       "      <td>2.306308</td>\n",
       "      <td>193.831501</td>\n",
       "      <td>1.059997</td>\n",
       "      <td>2.504262</td>\n",
       "      <td>2.666998</td>\n",
       "      <td>neutral</td>\n",
       "      <td>2023</td>\n",
       "    </tr>\n",
       "    <tr>\n",
       "      <th>2023-12-27</th>\n",
       "      <td>192.490005</td>\n",
       "      <td>193.500000</td>\n",
       "      <td>191.089996</td>\n",
       "      <td>193.149994</td>\n",
       "      <td>48087700</td>\n",
       "      <td>41.568718</td>\n",
       "      <td>53.291938</td>\n",
       "      <td>-115.745604</td>\n",
       "      <td>-116.860553</td>\n",
       "      <td>185.971400</td>\n",
       "      <td>188.601067</td>\n",
       "      <td>181.898701</td>\n",
       "      <td>184.340287</td>\n",
       "      <td>2.029448</td>\n",
       "      <td>193.969001</td>\n",
       "      <td>2.410004</td>\n",
       "      <td>2.490796</td>\n",
       "      <td>2.648641</td>\n",
       "      <td>neutral</td>\n",
       "      <td>2023</td>\n",
       "    </tr>\n",
       "    <tr>\n",
       "      <th>2023-12-28</th>\n",
       "      <td>194.139999</td>\n",
       "      <td>194.660004</td>\n",
       "      <td>193.169998</td>\n",
       "      <td>193.580002</td>\n",
       "      <td>34049900</td>\n",
       "      <td>45.331639</td>\n",
       "      <td>54.481470</td>\n",
       "      <td>-36.040033</td>\n",
       "      <td>-56.848224</td>\n",
       "      <td>186.300001</td>\n",
       "      <td>188.796319</td>\n",
       "      <td>182.046001</td>\n",
       "      <td>184.523252</td>\n",
       "      <td>1.823710</td>\n",
       "      <td>194.179501</td>\n",
       "      <td>1.510010</td>\n",
       "      <td>2.350684</td>\n",
       "      <td>2.567310</td>\n",
       "      <td>bearish</td>\n",
       "      <td>2023</td>\n",
       "    </tr>\n",
       "    <tr>\n",
       "      <th>2023-12-29</th>\n",
       "      <td>193.899994</td>\n",
       "      <td>194.399994</td>\n",
       "      <td>191.729996</td>\n",
       "      <td>192.529999</td>\n",
       "      <td>42628800</td>\n",
       "      <td>38.304340</td>\n",
       "      <td>51.061838</td>\n",
       "      <td>-76.639398</td>\n",
       "      <td>-82.668387</td>\n",
       "      <td>186.633801</td>\n",
       "      <td>188.942738</td>\n",
       "      <td>182.173301</td>\n",
       "      <td>184.681801</td>\n",
       "      <td>1.557975</td>\n",
       "      <td>194.308501</td>\n",
       "      <td>2.669998</td>\n",
       "      <td>2.396300</td>\n",
       "      <td>2.574645</td>\n",
       "      <td>bearish</td>\n",
       "      <td>2023</td>\n",
       "    </tr>\n",
       "  </tbody>\n",
       "</table>\n",
       "</div>"
      ],
      "text/plain": [
       "                  open        high         low       close    volume  \\\n",
       "date                                                                   \n",
       "2023-12-22  195.179993  195.410004  192.970001  193.600006  37122800   \n",
       "2023-12-26  193.610001  193.889999  192.830002  193.050003  28919300   \n",
       "2023-12-27  192.490005  193.500000  191.089996  193.149994  48087700   \n",
       "2023-12-28  194.139999  194.660004  193.169998  193.580002  34049900   \n",
       "2023-12-29  193.899994  194.399994  191.729996  192.529999  42628800   \n",
       "\n",
       "                rsi_7     rsi_14       cci_7      cci_14      sma_50  \\\n",
       "date                                                                   \n",
       "2023-12-22  43.616382  54.609714 -125.833264  -50.518147  185.398801   \n",
       "2023-12-26  40.755941  53.026883 -128.310846  -89.108636  185.682801   \n",
       "2023-12-27  41.568718  53.291938 -115.745604 -116.860553  185.971400   \n",
       "2023-12-28  45.331639  54.481470  -36.040033  -56.848224  186.300001   \n",
       "2023-12-29  38.304340  51.061838  -76.639398  -82.668387  186.633801   \n",
       "\n",
       "                ema_50     sma_100     ema_100      macd   bollinger  \\\n",
       "date                                                                   \n",
       "2023-12-22  188.226229  181.768301  183.982764  2.636317  193.668500   \n",
       "2023-12-26  188.415396  181.787101  184.162313  2.306308  193.831501   \n",
       "2023-12-27  188.601067  181.898701  184.340287  2.029448  193.969001   \n",
       "2023-12-28  188.796319  182.046001  184.523252  1.823710  194.179501   \n",
       "2023-12-29  188.942738  182.173301  184.681801  1.557975  194.308501   \n",
       "\n",
       "            TrueRange     atr_7    atr_14   target  year  \n",
       "date                                                      \n",
       "2023-12-22   2.440003  2.744973  2.790613  neutral  2023  \n",
       "2023-12-26   1.059997  2.504262  2.666998  neutral  2023  \n",
       "2023-12-27   2.410004  2.490796  2.648641  neutral  2023  \n",
       "2023-12-28   1.510010  2.350684  2.567310  bearish  2023  \n",
       "2023-12-29   2.669998  2.396300  2.574645  bearish  2023  "
      ]
     },
     "execution_count": 13,
     "metadata": {},
     "output_type": "execute_result"
    }
   ],
   "source": [
    "df.tail()"
   ]
  },
  {
   "cell_type": "markdown",
   "id": "01943190",
   "metadata": {},
   "source": [
    "**This dataset consists of Apple Stock Price from January 2014 to December 2023. And the features in the dataset is described by:**\n",
    "\n",
    "Target : Price trend for next day - Multi Class Classification\n",
    "- bullish - If price increases more than 0.5%\n",
    "- bearish - If price fall more than 0.5%\n",
    "- neutral - If price movement stay with -0.5% to +0.5% range\n",
    "\n",
    "Following technical indicators included:\n",
    "- SMA: Simple Moving Average. Aid in determining if an asset price will continue or if it will reverse a bull or bear trend.\n",
    "- EMA: Exponential Moving Average. Shows how the price of an asset or security changes over a certain period of time. The EMA is different from a simple moving average in that it places more weight on recent data points\n",
    "- RSI: Relative Strength Index. RSI measures the speed and magnitude of a security's recent price changes to evaluate overvalued or undervalued conditions in the price of that security.\n",
    "- Bolling: Bollinger Band. Generate oversold or overbought signals\n",
    "- MACD: Moving Average Convergence Divergence. A trend-following momentum indicator that shows the relationship between two exponential moving averages.\n",
    "- CCI: Commodity Channel Index. A technical indicator that measures the difference between the current price and the historical average price.\n",
    "- TR: True Range. Measures the daily range plus any gap from the closing price of the preceding day.\n",
    "- ATR: Average True Range. Average of true ranges over the specified period. ATR measures volatility, taking into account any gaps in the price movement."
   ]
  },
  {
   "cell_type": "markdown",
   "id": "cae992b8",
   "metadata": {},
   "source": [
    "### Plot Closing Price"
   ]
  },
  {
   "cell_type": "code",
   "execution_count": 22,
   "id": "b66f39e6",
   "metadata": {
    "scrolled": false
   },
   "outputs": [
    {
     "name": "stderr",
     "output_type": "stream",
     "text": [
      "/var/folders/pq/t5rg1tbx2vx1zylhwbjrt66r0000gn/T/ipykernel_2050/2335379984.py:1: MatplotlibDeprecationWarning: The seaborn styles shipped by Matplotlib are deprecated since 3.6, as they no longer correspond to the styles shipped by seaborn. However, they will remain available as 'seaborn-v0_8-<style>'. Alternatively, directly use the seaborn API instead.\n",
      "  plt.style.use('seaborn-darkgrid')\n"
     ]
    },
    {
     "data": {
      "image/png": "[encoded data removed]",
      "text/plain": [
       "<Figure size 1000x700 with 1 Axes>"
      ]
     },
     "metadata": {},
     "output_type": "display_data"
    }
   ],
   "source": [
    "plt.style.use('seaborn-darkgrid')\n",
    "df['close'].plot(figsize=(10, 7), color = 'green')\n",
    "plt.title('Closing Price of Apple', fontsize = 15)\n",
    "plt.xlabel('Date', fontsize = 12)\n",
    "plt.ylabel('Price', fontsize = 12)\n",
    "plt.show()"
   ]
  },
  {
   "cell_type": "markdown",
   "id": "c5ddc23c",
   "metadata": {},
   "source": [
    "### Plot Volume"
   ]
  },
  {
   "cell_type": "code",
   "execution_count": 25,
   "id": "86a4cad8",
   "metadata": {},
   "outputs": [
    {
     "name": "stderr",
     "output_type": "stream",
     "text": [
      "/var/folders/pq/t5rg1tbx2vx1zylhwbjrt66r0000gn/T/ipykernel_2050/2528019085.py:1: MatplotlibDeprecationWarning: The seaborn styles shipped by Matplotlib are deprecated since 3.6, as they no longer correspond to the styles shipped by seaborn. However, they will remain available as 'seaborn-v0_8-<style>'. Alternatively, directly use the seaborn API instead.\n",
      "  plt.style.use('seaborn-darkgrid')\n"
     ]
    },
    {
     "data": {
      "image/png": "[encoded data removed]",
      "text/plain": [
       "<Figure size 1000x700 with 1 Axes>"
      ]
     },
     "metadata": {},
     "output_type": "display_data"
    }
   ],
   "source": [
    "plt.style.use('seaborn-darkgrid')\n",
    "df['volume'].plot(figsize = (10, 7), color = 'blue')\n",
    "plt.title('Volume of Price', fontsize = 15)\n",
    "plt.xlabel('Volume', fontsize = 12)\n",
    "plt.ylabel('Date', fontsize = 12)\n",
    "plt.show()"
   ]
  },
  {
   "cell_type": "code",
   "execution_count": null,
   "id": "135fb3e0",
   "metadata": {},
   "outputs": [],
   "source": []
  }
 ],
 "metadata": {
  "kernelspec": {
   "display_name": "Python 3 (ipykernel)",
   "language": "python",
   "name": "python3"
  },
  "language_info": {
   "codemirror_mode": {
    "name": "ipython",
    "version": 3
   },
   "file_extension": ".py",
   "mimetype": "text/x-python",
   "name": "python",
   "nbconvert_exporter": "python",
   "pygments_lexer": "ipython3",
   "version": "3.10.9"
  }
 },
 "nbformat": 4,
 "nbformat_minor": 5
}
